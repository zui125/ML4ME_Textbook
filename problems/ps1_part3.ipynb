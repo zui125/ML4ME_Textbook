{
  "cells": [
    {
      "cell_type": "markdown",
      "metadata": {
        "id": "THhdvLWjsK6u"
      },
      "source": [
        "## PS1 Part 3: Bi-Linear Models and SGD"
      ]
    },
    {
      "cell_type": "markdown",
      "metadata": {
        "id": "In4rFDt8sK6w"
      },
      "source": [
        "### Bilinear Models for Recommendation\n",
        "\n",
        "For this problem, you will derive a very simple recommendation system that uses a combination of unsupervised and supervised approachs and demonstrates use of Stochastic Gradient Descent.\n",
        "\n",
        "Specifically, in class we discussed recommender models of the form:\n",
        "$$\n",
        "f(user,movie) = \\langle v_u,v_m \\rangle + b_u + b_m + \\mu\n",
        "$$\n",
        "\n",
        "where $v$ is a vector that represents a user's or movie's location in an N-Dimensional space, $b$ is a vector that represents a specific \"bias\" term fo\n",
        "r each movie and user, and $\\mu$ is a scalar that represents a kind of global anchor or base score (i.e., a sort of average movie rating). This means that each user has two vectors (e.g., $v_{\\mathrm{jack~smith}}$ and $b_{\\mathrm{jack~smith}}$), and each movie has two vectors (e.g., $v_{\\mathrm{Avengers}}$ and $b_{\\mathrm{Avengers}}$), with each of those vectors being N-Dimensional (in class we used two dimensions). For this, we constructed a loss function as follows:\n",
        "$$\n",
        "Cost = Loss + Penalty\n",
        "$$\n",
        "where\n",
        "$$\n",
        "Loss = \\Sigma_{(u,m)\\in \\mathrm{Ratings}} \\frac{1}{2}\\left( \\langle v_u,v_m \\rangle + b_u + b_m + \\mu - y_{u,m}\\right)^2\n",
        "$$\n",
        "and\n",
        "$$\n",
        "Penalty = \\frac{\\lambda}{2}\\left(\\Sigma_u \\left[\\| v_u\\|^2_2 + b_u^2\\right] + \\Sigma_m \\left[\\|v_m\\|^2_2 + b_m^2\\right]\\right)\n",
        "$$\n"
      ]
    },
    {
      "cell_type": "markdown",
      "metadata": {
        "id": "yQaY3TV1sK6x"
      },
      "source": [
        "### Task 1: Analytical Gradients\n",
        "To use stochastic gradient descent, we first need to write down the gradients. Using the above cost function (including both the loss and penalty), compute the following partial derivatives:\n",
        "\n",
        "$$\n",
        "\\frac{\\partial \\textrm{Cost}}{\\partial v_u } =\n",
        "$$\n",
        "\n",
        "$$\n",
        "\\frac{\\partial \\textrm{Cost}}{\\partial v_m } =\n",
        "$$\n",
        "\n",
        "$$\n",
        "\\frac{\\partial \\textrm{Cost}}{\\partial b_u} =\n",
        "$$\n",
        "\n",
        "$$\n",
        "\\frac{\\partial \\textrm{Cost}}{\\partial b_m} =\n",
        "$$\n",
        "\n",
        "$$\n",
        "\\frac{\\partial \\textrm{Cost}}{\\partial \\mu} =\n",
        "$$\n",
        "\n",
        "You can either do this directly in the notebook using LaTeX notation, or via a scanned image. Please remember to show your work in how you computed the derivatives, not just the final result. Note: Recall that the partial derivative of e.g. Nicholas's rating on Titanic with respect to the user Mark would be zero. When computing your SGD updates, consider how this might impact individual terms for users and movies in the loss function."
      ]
    },
    {
      "cell_type": "markdown",
      "metadata": {
        "id": "-bc4GUAHsK6x"
      },
      "source": [
        "### Task 2: Stochastic Gradient Descent\n",
        "Now you are actually going to implement SGD on this type of model and optimize it until convergence on a toy dataset. To simplify the implementation, we'll actually make the model a little simpler than the one you derived updates for in task 1. Specifically, we'll just use:\n",
        "\n",
        "$$\n",
        "Cost = \\Sigma_{(u,m)\\in \\mathrm{Ratings}} \\frac{1}{2}\\left( \\langle v_u,v_m \\rangle + \\mu - y_{u,m}\\right)^2 + \\frac{\\lambda}{2}\\left(\\| v_u\\|^2_2 + \\|v_m\\|^2_2\\right)\n",
        "$$\n",
        "\n",
        "This way all you have to estimate is two vectors — $v_u$ for each user and $v_m$ for each movie — and $\\mu$ — a scalar value similar to an average rating. For simplicity, we'll assume here that the size of the latent space (K) is 2 (i.e., the length of each  $v_u$ & $v_m$).\n",
        "\n",
        "Using your above gradients, write down the update equations for each vector using stochastic gradient descent. Once you have done this, implement those update equations in code like we did in the in-class notebook. For simplicity, you can just use a constant step size $\\alpha$ if you wish, though you may change this if you want. Note: depending on exactly how you implement your model and what batch size you use, i.e., one point at a time, or some subset of data points, values of $\\alpha$ anywhere between around 0.7 and 0.01 should be sufficient to converge the model in under 1000 epochs, i.e., passes through the dataset. If you implement more advanced tricks covered in some optional readings this can converge much faster, but that is not necessary for this assignment, and it does not matter to me how quickly your model coverges, so long as it does so.\n",
        "\n",
        "Use the below small sample dataset of movie ratings for five users and six movies to perform stochastic gradient descent to update those vectors until your model converges. To initialize your SGD, you can use the initial weights/terms we provide below, or you can initialize the model any other way you wish -- the exact initialization should not make a big difference here."
      ]
    },
    {
      "cell_type": "code",
      "execution_count": null,
      "metadata": {
        "id": "-RXFl6nNsK6x"
      },
      "outputs": [],
      "source": [
        "# Your Code below!"
      ]
    },
    {
      "cell_type": "code",
      "execution_count": null,
      "metadata": {
        "id": "pbRnHgU3sK6y",
        "outputId": "05af604a-9460-41f6-bb8b-b820cd821405"
      },
      "outputs": [
        {
          "data": {
            "text/html": [
              "<div>\n",
              "<style scoped>\n",
              "    .dataframe tbody tr th:only-of-type {\n",
              "        vertical-align: middle;\n",
              "    }\n",
              "\n",
              "    .dataframe tbody tr th {\n",
              "        vertical-align: top;\n",
              "    }\n",
              "\n",
              "    .dataframe thead th {\n",
              "        text-align: right;\n",
              "    }\n",
              "</style>\n",
              "<table border=\"1\" class=\"dataframe\">\n",
              "  <thead>\n",
              "    <tr style=\"text-align: right;\">\n",
              "      <th></th>\n",
              "      <th>movie</th>\n",
              "      <th>user</th>\n",
              "      <th>ratings</th>\n",
              "    </tr>\n",
              "  </thead>\n",
              "  <tbody>\n",
              "    <tr>\n",
              "      <th>0</th>\n",
              "      <td>The Avengers</td>\n",
              "      <td>Alex</td>\n",
              "      <td>3.0</td>\n",
              "    </tr>\n",
              "    <tr>\n",
              "      <th>1</th>\n",
              "      <td>The Avengers</td>\n",
              "      <td>Priya</td>\n",
              "      <td>3.5</td>\n",
              "    </tr>\n",
              "    <tr>\n",
              "      <th>2</th>\n",
              "      <td>The Avengers</td>\n",
              "      <td>Yichen</td>\n",
              "      <td>3.5</td>\n",
              "    </tr>\n",
              "    <tr>\n",
              "      <th>3</th>\n",
              "      <td>When Harry Met Sally</td>\n",
              "      <td>Alex</td>\n",
              "      <td>3.0</td>\n",
              "    </tr>\n",
              "    <tr>\n",
              "      <th>4</th>\n",
              "      <td>When Harry Met Sally</td>\n",
              "      <td>Sally</td>\n",
              "      <td>4.5</td>\n",
              "    </tr>\n",
              "    <tr>\n",
              "      <th>5</th>\n",
              "      <td>When Harry Met Sally</td>\n",
              "      <td>Priya</td>\n",
              "      <td>3.0</td>\n",
              "    </tr>\n",
              "    <tr>\n",
              "      <th>6</th>\n",
              "      <td>When Harry Met Sally</td>\n",
              "      <td>Yichen</td>\n",
              "      <td>3.0</td>\n",
              "    </tr>\n",
              "    <tr>\n",
              "      <th>7</th>\n",
              "      <td>Silence of the Lambs</td>\n",
              "      <td>Alex</td>\n",
              "      <td>3.0</td>\n",
              "    </tr>\n",
              "    <tr>\n",
              "      <th>8</th>\n",
              "      <td>Silence of the Lambs</td>\n",
              "      <td>Sally</td>\n",
              "      <td>4.0</td>\n",
              "    </tr>\n",
              "    <tr>\n",
              "      <th>9</th>\n",
              "      <td>Silence of the Lambs</td>\n",
              "      <td>Juan</td>\n",
              "      <td>3.5</td>\n",
              "    </tr>\n",
              "    <tr>\n",
              "      <th>10</th>\n",
              "      <td>Silence of the Lambs</td>\n",
              "      <td>Priya</td>\n",
              "      <td>3.0</td>\n",
              "    </tr>\n",
              "    <tr>\n",
              "      <th>11</th>\n",
              "      <td>Silence of the Lambs</td>\n",
              "      <td>Yichen</td>\n",
              "      <td>2.5</td>\n",
              "    </tr>\n",
              "    <tr>\n",
              "      <th>12</th>\n",
              "      <td>Shawshank Redemption</td>\n",
              "      <td>Juan</td>\n",
              "      <td>2.5</td>\n",
              "    </tr>\n",
              "    <tr>\n",
              "      <th>13</th>\n",
              "      <td>Shawshank Redemption</td>\n",
              "      <td>Priya</td>\n",
              "      <td>4.0</td>\n",
              "    </tr>\n",
              "    <tr>\n",
              "      <th>14</th>\n",
              "      <td>Shawshank Redemption</td>\n",
              "      <td>Yichen</td>\n",
              "      <td>4.0</td>\n",
              "    </tr>\n",
              "    <tr>\n",
              "      <th>15</th>\n",
              "      <td>The Hangover</td>\n",
              "      <td>Alex</td>\n",
              "      <td>3.0</td>\n",
              "    </tr>\n",
              "    <tr>\n",
              "      <th>16</th>\n",
              "      <td>The Hangover</td>\n",
              "      <td>Sally</td>\n",
              "      <td>3.5</td>\n",
              "    </tr>\n",
              "    <tr>\n",
              "      <th>17</th>\n",
              "      <td>The Hangover</td>\n",
              "      <td>Priya</td>\n",
              "      <td>3.0</td>\n",
              "    </tr>\n",
              "    <tr>\n",
              "      <th>18</th>\n",
              "      <td>The Hangover</td>\n",
              "      <td>Yichen</td>\n",
              "      <td>2.5</td>\n",
              "    </tr>\n",
              "    <tr>\n",
              "      <th>19</th>\n",
              "      <td>The Godfather</td>\n",
              "      <td>Alex</td>\n",
              "      <td>3.0</td>\n",
              "    </tr>\n",
              "    <tr>\n",
              "      <th>20</th>\n",
              "      <td>The Godfather</td>\n",
              "      <td>Priya</td>\n",
              "      <td>3.5</td>\n",
              "    </tr>\n",
              "  </tbody>\n",
              "</table>\n",
              "</div>"
            ],
            "text/plain": [
              "                   movie    user  ratings\n",
              "0           The Avengers    Alex      3.0\n",
              "1           The Avengers   Priya      3.5\n",
              "2           The Avengers  Yichen      3.5\n",
              "3   When Harry Met Sally    Alex      3.0\n",
              "4   When Harry Met Sally   Sally      4.5\n",
              "5   When Harry Met Sally   Priya      3.0\n",
              "6   When Harry Met Sally  Yichen      3.0\n",
              "7   Silence of the Lambs    Alex      3.0\n",
              "8   Silence of the Lambs   Sally      4.0\n",
              "9   Silence of the Lambs    Juan      3.5\n",
              "10  Silence of the Lambs   Priya      3.0\n",
              "11  Silence of the Lambs  Yichen      2.5\n",
              "12  Shawshank Redemption    Juan      2.5\n",
              "13  Shawshank Redemption   Priya      4.0\n",
              "14  Shawshank Redemption  Yichen      4.0\n",
              "15          The Hangover    Alex      3.0\n",
              "16          The Hangover   Sally      3.5\n",
              "17          The Hangover   Priya      3.0\n",
              "18          The Hangover  Yichen      2.5\n",
              "19         The Godfather    Alex      3.0\n",
              "20         The Godfather   Priya      3.5"
            ]
          },
          "execution_count": 2,
          "metadata": {},
          "output_type": "execute_result"
        }
      ],
      "source": [
        "import numpy as np\n",
        "import pandas as pd\n",
        "missing_ratings = pd.read_csv('missing.csv')\n",
        "ratings = pd.read_csv('ratings.csv')\n",
        "ratings"
      ]
    },
    {
      "cell_type": "code",
      "execution_count": null,
      "metadata": {
        "id": "WA17sn3_sK6y",
        "outputId": "b10a6d2c-5a8e-4ba8-d929-8f00a66ebc48"
      },
      "outputs": [
        {
          "data": {
            "text/plain": [
              "array([['The Avengers', 'Alex', 3.0],\n",
              "       ['The Avengers', 'Priya', 3.5],\n",
              "       ['The Avengers', 'Yichen', 3.5],\n",
              "       ['When Harry Met Sally', 'Alex', 3.0],\n",
              "       ['When Harry Met Sally', 'Sally', 4.5],\n",
              "       ['When Harry Met Sally', 'Priya', 3.0],\n",
              "       ['When Harry Met Sally', 'Yichen', 3.0],\n",
              "       ['Silence of the Lambs', 'Alex', 3.0],\n",
              "       ['Silence of the Lambs', 'Sally', 4.0],\n",
              "       ['Silence of the Lambs', 'Juan', 3.5],\n",
              "       ['Silence of the Lambs', 'Priya', 3.0],\n",
              "       ['Silence of the Lambs', 'Yichen', 2.5],\n",
              "       ['Shawshank Redemption', 'Juan', 2.5],\n",
              "       ['Shawshank Redemption', 'Priya', 4.0],\n",
              "       ['Shawshank Redemption', 'Yichen', 4.0],\n",
              "       ['The Hangover', 'Alex', 3.0],\n",
              "       ['The Hangover', 'Sally', 3.5],\n",
              "       ['The Hangover', 'Priya', 3.0],\n",
              "       ['The Hangover', 'Yichen', 2.5],\n",
              "       ['The Godfather', 'Alex', 3.0],\n",
              "       ['The Godfather', 'Priya', 3.5]], dtype=object)"
            ]
          },
          "execution_count": 3,
          "metadata": {},
          "output_type": "execute_result"
        }
      ],
      "source": [
        "# Alternatively, if you prefer, you can convert it into numpy first:\n",
        "ratings_numpy = ratings.to_numpy()\n",
        "ratings_numpy"
      ]
    },
    {
      "cell_type": "markdown",
      "metadata": {
        "id": "tu3QvBMXsK6z"
      },
      "source": [
        "Let's initialize the vectors to some random numbers, and $\\mu$ to 2.5"
      ]
    },
    {
      "cell_type": "code",
      "execution_count": null,
      "metadata": {
        "id": "9OfcM3DYsK6z",
        "outputId": "28a202a9-68bb-4cc4-bb46-5849626b0e77"
      },
      "outputs": [
        {
          "name": "stdout",
          "output_type": "stream",
          "text": [
            "                             0         1\n",
            "Alex                  0.548814  0.715189\n",
            "Priya                 0.602763  0.544883\n",
            "Yichen                0.423655  0.645894\n",
            "Sally                 0.437587  0.891773\n",
            "Juan                  0.963663  0.383442\n",
            "The Avengers          0.791725  0.528895\n",
            "When Harry Met Sally  0.568045  0.925597\n",
            "Silence of the Lambs  0.071036  0.087129\n",
            "Shawshank Redemption  0.020218  0.832620\n",
            "The Hangover          0.778157  0.870012\n",
            "The Godfather         0.978618  0.799159\n"
          ]
        }
      ],
      "source": [
        "K=2\n",
        "user_names = ratings['user'].unique()\n",
        "movie_names = ratings['movie'].unique()\n",
        "mu= 2.5\n",
        "# Setting the seed of the random generator to a value so that everyone sees the same initialization\n",
        "# should should be able to comment out the below with no ill-effects on whatever model you implement\n",
        "# this may just help us in office hours if folks have difficulty implementing things\n",
        "np.random.seed(0)\n",
        "V = pd.DataFrame(np.random.random((len(user_names)+len(movie_names),K)),index=np.hstack([user_names,movie_names]))\n",
        "print(V)"
      ]
    },
    {
      "cell_type": "code",
      "execution_count": null,
      "metadata": {
        "id": "NEz_BXGPsK6z",
        "outputId": "48bde2a6-8577-4fe1-ae1c-80d6d2598569"
      },
      "outputs": [
        {
          "name": "stdout",
          "output_type": "stream",
          "text": [
            "Alex gave The Avengers a score of 3.0\n",
            "Priya gave The Avengers a score of 3.5\n",
            "Yichen gave The Avengers a score of 3.5\n",
            "Alex gave When Harry Met Sally a score of 3.0\n",
            "Sally gave When Harry Met Sally a score of 4.5\n",
            "Priya gave When Harry Met Sally a score of 3.0\n",
            "Yichen gave When Harry Met Sally a score of 3.0\n",
            "Alex gave Silence of the Lambs a score of 3.0\n",
            "Sally gave Silence of the Lambs a score of 4.0\n",
            "Juan gave Silence of the Lambs a score of 3.5\n",
            "Priya gave Silence of the Lambs a score of 3.0\n",
            "Yichen gave Silence of the Lambs a score of 2.5\n",
            "Juan gave Shawshank Redemption a score of 2.5\n",
            "Priya gave Shawshank Redemption a score of 4.0\n",
            "Yichen gave Shawshank Redemption a score of 4.0\n",
            "Alex gave The Hangover a score of 3.0\n",
            "Sally gave The Hangover a score of 3.5\n",
            "Priya gave The Hangover a score of 3.0\n",
            "Yichen gave The Hangover a score of 2.5\n",
            "Alex gave The Godfather a score of 3.0\n",
            "Priya gave The Godfather a score of 3.5\n"
          ]
        }
      ],
      "source": [
        "# Here is one example of how to go through rows of a ratings matrix\n",
        "for index, rating in ratings.iterrows():\n",
        "    user  = rating['user']\n",
        "    movie = rating['movie']\n",
        "    score = rating['ratings']\n",
        "    print(f\"{user} gave {movie} a score of {score}\")"
      ]
    },
    {
      "cell_type": "code",
      "execution_count": null,
      "metadata": {
        "id": "0wpQSXBNsK6z"
      },
      "outputs": [],
      "source": []
    },
    {
      "cell_type": "code",
      "execution_count": null,
      "metadata": {
        "id": "kfhmNy3YsK6z",
        "outputId": "a7c28801-d948-4b69-990b-49d2f87d8ec0"
      },
      "outputs": [
        {
          "name": "stdout",
          "output_type": "stream",
          "text": [
            "Alex's location in V is [0.5488135  0.71518937].\n",
            "The Avengers's location in V is [0.79172504 0.52889492].\n",
            "\n",
            "Priya's location in V is [0.60276338 0.54488318].\n",
            "The Avengers's location in V is [0.79172504 0.52889492].\n",
            "\n",
            "Yichen's location in V is [0.4236548  0.64589411].\n",
            "The Avengers's location in V is [0.79172504 0.52889492].\n",
            "\n",
            "Alex's location in V is [0.5488135  0.71518937].\n",
            "When Harry Met Sally's location in V is [0.56804456 0.92559664].\n",
            "\n",
            "Sally's location in V is [0.43758721 0.891773  ].\n",
            "When Harry Met Sally's location in V is [0.56804456 0.92559664].\n",
            "\n",
            "Priya's location in V is [0.60276338 0.54488318].\n",
            "When Harry Met Sally's location in V is [0.56804456 0.92559664].\n",
            "\n",
            "Yichen's location in V is [0.4236548  0.64589411].\n",
            "When Harry Met Sally's location in V is [0.56804456 0.92559664].\n",
            "\n",
            "Alex's location in V is [0.5488135  0.71518937].\n",
            "Silence of the Lambs's location in V is [0.07103606 0.0871293 ].\n",
            "\n",
            "Sally's location in V is [0.43758721 0.891773  ].\n",
            "Silence of the Lambs's location in V is [0.07103606 0.0871293 ].\n",
            "\n",
            "Juan's location in V is [0.96366276 0.38344152].\n",
            "Silence of the Lambs's location in V is [0.07103606 0.0871293 ].\n",
            "\n",
            "Priya's location in V is [0.60276338 0.54488318].\n",
            "Silence of the Lambs's location in V is [0.07103606 0.0871293 ].\n",
            "\n",
            "Yichen's location in V is [0.4236548  0.64589411].\n",
            "Silence of the Lambs's location in V is [0.07103606 0.0871293 ].\n",
            "\n",
            "Juan's location in V is [0.96366276 0.38344152].\n",
            "Shawshank Redemption's location in V is [0.0202184  0.83261985].\n",
            "\n",
            "Priya's location in V is [0.60276338 0.54488318].\n",
            "Shawshank Redemption's location in V is [0.0202184  0.83261985].\n",
            "\n",
            "Yichen's location in V is [0.4236548  0.64589411].\n",
            "Shawshank Redemption's location in V is [0.0202184  0.83261985].\n",
            "\n",
            "Alex's location in V is [0.5488135  0.71518937].\n",
            "The Hangover's location in V is [0.77815675 0.87001215].\n",
            "\n",
            "Sally's location in V is [0.43758721 0.891773  ].\n",
            "The Hangover's location in V is [0.77815675 0.87001215].\n",
            "\n",
            "Priya's location in V is [0.60276338 0.54488318].\n",
            "The Hangover's location in V is [0.77815675 0.87001215].\n",
            "\n",
            "Yichen's location in V is [0.4236548  0.64589411].\n",
            "The Hangover's location in V is [0.77815675 0.87001215].\n",
            "\n",
            "Alex's location in V is [0.5488135  0.71518937].\n",
            "The Godfather's location in V is [0.97861834 0.79915856].\n",
            "\n",
            "Priya's location in V is [0.60276338 0.54488318].\n",
            "The Godfather's location in V is [0.97861834 0.79915856].\n",
            "\n"
          ]
        }
      ],
      "source": [
        "# Here is an example of one way to access rows of V\n",
        "for index, rating in ratings.iterrows():\n",
        "    user  = rating['user']\n",
        "    movie = rating['movie']\n",
        "    print(f\"{user}'s location in V is {V.loc[user].to_numpy()}.\")\n",
        "    print(f\"{movie}'s location in V is {V.loc[movie].to_numpy()}.\")\n",
        "    print()\n",
        "\n",
        "# You could also do it in Numpy directly, which will likely lead to much faster SGD updates,\n",
        "# but that shouldn't be necessary for problems of this size. Up to you!"
      ]
    },
    {
      "cell_type": "markdown",
      "metadata": {
        "id": "zljHUktusK60"
      },
      "source": [
        "### Train your Bilinear Model using SGD"
      ]
    },
    {
      "cell_type": "code",
      "execution_count": null,
      "metadata": {
        "id": "qUGe103fsK60"
      },
      "outputs": [],
      "source": [
        "# Your Model building and training code here!"
      ]
    },
    {
      "cell_type": "markdown",
      "metadata": {
        "id": "9dQvSvvxsK60"
      },
      "source": [
        "### Assessing your accuracy\n",
        "Let's predict the ratings for the missing entries using our (randomly initialized) model."
      ]
    },
    {
      "cell_type": "code",
      "execution_count": null,
      "metadata": {
        "id": "4WDCUDkzsK60",
        "outputId": "224356e6-476b-4453-8d84-d00bb42ecaa1"
      },
      "outputs": [
        {
          "name": "stdout",
          "output_type": "stream",
          "text": [
            "Prediction: Sally will rate The Avengers: 3.32\n",
            "Prediction: Juan will rate The Avengers: 3.47\n",
            "Prediction: Juan will rate When Harry Met Sally: 3.40\n",
            "Prediction: Alex will rate Shawshank Redemption: 3.11\n",
            "Prediction: Sally will rate Shawshank Redemption: 3.25\n",
            "Prediction: Juan will rate The Hangover: 3.58\n",
            "Prediction: Sally will rate The Godfather: 3.64\n",
            "Prediction: Juan will rate The Godfather: 3.75\n",
            "Prediction: Yichen will rate The Godfather: 3.43\n"
          ]
        }
      ],
      "source": [
        "for index, rating in missing_ratings.iterrows():\n",
        "    user  = rating['user']\n",
        "    movie = rating['movie']\n",
        "    prediction = np.dot(V.loc[user],V.loc[movie])+mu\n",
        "    print(f\"Prediction: {user} will rate {movie}: {prediction:.2f}\")"
      ]
    }
  ],
  "metadata": {
    "colab": {
      "provenance": []
    },
    "kernelspec": {
      "display_name": "Python 3",
      "language": "python",
      "name": "python3"
    },
    "language_info": {
      "codemirror_mode": {
        "name": "ipython",
        "version": 3
      },
      "file_extension": ".py",
      "mimetype": "text/x-python",
      "name": "python",
      "nbconvert_exporter": "python",
      "pygments_lexer": "ipython3",
      "version": "3.9.4"
    },
    "varInspector": {
      "cols": {
        "lenName": 16,
        "lenType": 16,
        "lenVar": 40
      },
      "kernels_config": {
        "python": {
          "delete_cmd_postfix": "",
          "delete_cmd_prefix": "del ",
          "library": "var_list.py",
          "varRefreshCmd": "print(var_dic_list())"
        },
        "r": {
          "delete_cmd_postfix": ") ",
          "delete_cmd_prefix": "rm(",
          "library": "var_list.r",
          "varRefreshCmd": "cat(var_dic_list()) "
        }
      },
      "types_to_exclude": [
        "module",
        "function",
        "builtin_function_or_method",
        "instance",
        "_Feature"
      ],
      "window_display": false
    }
  },
  "nbformat": 4,
  "nbformat_minor": 0
}
